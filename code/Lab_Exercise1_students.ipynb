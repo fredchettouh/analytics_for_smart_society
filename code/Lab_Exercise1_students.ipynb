{
 "cells": [
  {
   "cell_type": "markdown",
   "metadata": {
    "colab_type": "text",
    "id": "kl9SgWif2a4Y"
   },
   "source": [
    "![uc3m](http://materplat.org/wp-content/uploads/LogoUC3M.jpg)\n",
    "#### Mount your Google Drive"
   ]
  },
  {
   "cell_type": "code",
   "execution_count": 11,
   "metadata": {},
   "outputs": [
    {
     "name": "stdout",
     "output_type": "stream",
     "text": [
      "Are you using google colab or local jupyter notebook?\n",
      "Please type yes or no.\n",
      "Your answer: no\n"
     ]
    }
   ],
   "source": [
    "google_colab = input('Are you using google colab or local jupyter notebook?\\nPlease type yes or no.\\nYour answer: ')"
   ]
  },
  {
   "cell_type": "code",
   "execution_count": 13,
   "metadata": {},
   "outputs": [
    {
     "ename": "ModuleNotFoundError",
     "evalue": "No module named 'librosa'",
     "output_type": "error",
     "traceback": [
      "\u001b[0;31m---------------------------------------------------------------------------\u001b[0m",
      "\u001b[0;31mModuleNotFoundError\u001b[0m                       Traceback (most recent call last)",
      "\u001b[0;32m<ipython-input-13-c6e6ab3c5799>\u001b[0m in \u001b[0;36m<module>\u001b[0;34m\u001b[0m\n\u001b[1;32m      1\u001b[0m \u001b[0;32mimport\u001b[0m \u001b[0mnumpy\u001b[0m  \u001b[0;32mas\u001b[0m \u001b[0mnp\u001b[0m\u001b[0;34m\u001b[0m\u001b[0;34m\u001b[0m\u001b[0m\n\u001b[1;32m      2\u001b[0m \u001b[0;32mimport\u001b[0m \u001b[0mmatplotlib\u001b[0m\u001b[0;34m.\u001b[0m\u001b[0mpyplot\u001b[0m \u001b[0;32mas\u001b[0m \u001b[0mplt\u001b[0m\u001b[0;34m\u001b[0m\u001b[0;34m\u001b[0m\u001b[0m\n\u001b[0;32m----> 3\u001b[0;31m \u001b[0;32mimport\u001b[0m \u001b[0mlibrosa\u001b[0m  \u001b[0;31m# package for speech and audio analysis\u001b[0m\u001b[0;34m\u001b[0m\u001b[0;34m\u001b[0m\u001b[0m\n\u001b[0m\u001b[1;32m      4\u001b[0m \u001b[0;32mfrom\u001b[0m \u001b[0msklearn\u001b[0m \u001b[0;32mimport\u001b[0m \u001b[0mmixture\u001b[0m\u001b[0;34m\u001b[0m\u001b[0;34m\u001b[0m\u001b[0m\n\u001b[1;32m      5\u001b[0m \u001b[0;32mfrom\u001b[0m \u001b[0msklearn\u001b[0m\u001b[0;34m.\u001b[0m\u001b[0mmetrics\u001b[0m \u001b[0;32mimport\u001b[0m \u001b[0maccuracy_score\u001b[0m\u001b[0;34m,\u001b[0m\u001b[0mconfusion_matrix\u001b[0m\u001b[0;34m\u001b[0m\u001b[0;34m\u001b[0m\u001b[0m\n",
      "\u001b[0;31mModuleNotFoundError\u001b[0m: No module named 'librosa'"
     ]
    }
   ],
   "source": [
    "# setting the environment\n",
    "\n",
    "# Load the Drive helper and mount\n",
    "if google_colab=='yes':\n",
    "    from google.colab import drive\n",
    "\n",
    "# This will prompt for authorization.\n",
    "    drive.mount('/content/drive')\n",
    "\n",
    "# Change to assignment directory ('Lab_Exercises_DASS/Lab_Exercise1' by default)\n",
    "    import os\n",
    "    os.chdir('/content/drive/My Drive/Colab Notebooks/Lab_Exercises_DASS/Lab_Exercise1')\n",
    "\n",
    "\n",
    "import numpy  as np\n",
    "import matplotlib.pyplot as plt\n",
    "import librosa  # package for speech and audio analysis\n",
    "from sklearn import mixture\n",
    "from sklearn.metrics import accuracy_score,confusion_matrix\n",
    "plt.style.use('default')"
   ]
  },
  {
   "cell_type": "code",
   "execution_count": 8,
   "metadata": {},
   "outputs": [
    {
     "data": {
      "text/plain": [
       "<module 'numpy' from '/Users/frederik/Google Drive/University/UC3M/bi_semester_1/High performance comuting/asg_spark/spark/lib/python3.7/site-packages/numpy/__init__.py'>"
      ]
     },
     "execution_count": 8,
     "metadata": {},
     "output_type": "execute_result"
    }
   ],
   "source": [
    "numpy"
   ]
  },
  {
   "cell_type": "markdown",
   "metadata": {
    "colab_type": "text",
    "id": "CQhzn5_AAdLj"
   },
   "source": [
    "#### Required Python libraries for the lab session"
   ]
  },
  {
   "cell_type": "code",
   "execution_count": 0,
   "metadata": {
    "colab": {},
    "colab_type": "code",
    "id": "R_GiTKWEdQR2"
   },
   "outputs": [],
   "source": [
    "\n",
    "import numpy  as np\n",
    "import matplotlib.pyplot as plt\n",
    "import librosa  # package for speech and audio analysis\n",
    "from sklearn import mixture\n",
    "from sklearn.metrics import accuracy_score,confusion_matrix\n",
    "plt.style.use('default')"
   ]
  },
  {
   "cell_type": "markdown",
   "metadata": {
    "colab_type": "text",
    "id": "MUlCnCXzj_JC"
   },
   "source": [
    "# LAB EXERCISE 1\n",
    "---\n",
    "\n"
   ]
  },
  {
   "cell_type": "markdown",
   "metadata": {
    "colab_type": "text",
    "id": "SO_OipSFdQRx"
   },
   "source": [
    "# SPEAKER IDENTIFICATION\n",
    "\n",
    "### DATA ANALYTICS FOR THE SMART SOCIETY\n",
    "\n",
    "### MASTER IN BIG DATA ANALITYCS\n",
    "### COURSE 2019/2020\n",
    "\n"
   ]
  },
  {
   "cell_type": "markdown",
   "metadata": {
    "colab_type": "text",
    "id": "iIgW-6RbkeZL"
   },
   "source": [
    "1. OBJECTIVE\n",
    "\n",
    "2. DATABASE\n",
    "\n",
    "3. READING SPEECH FILES AND FEATURE EXTRACTION\n",
    "\n",
    "4. SPEAKER IDENTIFICATION SYSTEM\n",
    "\n",
    "> 4.1. TRAINING STAGE\n",
    "\n",
    "> 4.2. TEST STAGE (CLEAN CONDITIONS)\n",
    "\n",
    "> 4.3. EVALUATION (CLEAN CONDITIONS)\n",
    "\n",
    "> 4.4. TEST STAGE (NOISY CONDITIONS)\n",
    "\n",
    "> 4.5. EVALUATION (NOISY CONDITIONS)\n",
    "\n",
    "5. IMPROVEMENTS ON THE BASELINE SYSTEM [OPTIONAL]"
   ]
  },
  {
   "cell_type": "markdown",
   "metadata": {
    "colab_type": "text",
    "id": "M9tDtFTwdQRz"
   },
   "source": [
    "---\n",
    "## 1. OBJECTIVE \n",
    "---\n",
    "The objective of this lab exercise is to implement a **text-independent Speaker Identification (SI) system based on Gaussian Mixture Models (GMM)**. This system takes a speech utterance from an unknown speaker and provides the name or identification code of that speaker.\n",
    "\n"
   ]
  },
  {
   "cell_type": "markdown",
   "metadata": {
    "colab_type": "text",
    "id": "TUURyEQC4pku"
   },
   "source": [
    "---\n",
    "## 2. DATABASE \n",
    "---\n",
    "The database contains speech from **16 different speakers** and  it has been recorded at a **sampling frequency of 16 kHz** (subdirectory ***“speechdata”***). It comprises speech files of three different types:\n",
    "\n",
    "* **Training material.** These files  (listed in the file ***“Train_List.txt”***) will be used for building the specific-speaker models.\n",
    "\n",
    "* **Test material 1.** These files (listed in the file ***“Test_List1.txt”***) will be used for evaluating the system in clean conditions.\n",
    "\n",
    "* **Test material 2.** These files (listed in the file ***“Test_List2.txt”***) will be used for evaluating the system in noisy conditions.\n",
    "\n",
    "The three lists have the following format per line:\n",
    "\n",
    "```\n",
    "name_of_speech_file   speaker_identifier\n",
    "```\n",
    "\n",
    "\n"
   ]
  },
  {
   "cell_type": "code",
   "execution_count": 0,
   "metadata": {
    "colab": {},
    "colab_type": "code",
    "id": "K-4HJrXK512w"
   },
   "outputs": [],
   "source": [
    "# --------------------------------------------------------------------\n",
    "# Lists of training and testing speech files\n",
    "# --------------------------------------------------------------------\n",
    "nomlist_train = 'Train_List.txt';\n",
    "nomlist_test = ['Test_List1.txt', 'Test_List2.txt']\n",
    "print(\"Training list: \" + nomlist_train)\n",
    "print(\"Test list 1 (clean conditions): \"+ nomlist_test[0])\n",
    "print(\"Test list 2 (noisy conditions): \"+ nomlist_test[1])"
   ]
  },
  {
   "cell_type": "markdown",
   "metadata": {
    "colab_type": "text",
    "id": "d2sqorKWyPgj"
   },
   "source": [
    "---\n",
    "## 3. READING SPEECH FILES AND FEATURE EXTRACTION \n",
    "---\n",
    "The following code shows an example of reading a speech file with the function **load** from the *librosa* library."
   ]
  },
  {
   "cell_type": "code",
   "execution_count": 0,
   "metadata": {
    "colab": {},
    "colab_type": "code",
    "id": "LsMGyIjtBAmT"
   },
   "outputs": [],
   "source": [
    "# --------------------------------------------------------------------\n",
    "# Reading a speech file from the database\n",
    "# --------------------------------------------------------------------\n",
    "speech_name = 'speechdata/irm01/irm01_s01_test1.wav'\n",
    "print(speech_name)\n",
    "\n",
    "# x: speech signal\n",
    "# fs: sampling frequency\n",
    "x, fs = librosa.load(speech_name, sr=None)\n",
    "print(\"Number of samples in file \"+speech_name+\" = \"+str(x.shape[0]))\n",
    "print(\"Sampling frequency = \"+str(fs)+\" Hz\")\n",
    "\n",
    "fig, ax = plt.subplots()\n",
    "plt.plot(x)\n",
    "plt.title('Waveform')\n",
    "ax.set_xlabel('Time (samples)')\n",
    "plt.tight_layout()\n",
    "plt.show()\n"
   ]
  },
  {
   "cell_type": "markdown",
   "metadata": {
    "colab_type": "text",
    "id": "wQjxkqCFh8nP"
   },
   "source": [
    "In the following, we show an example of feature extraction for the previous speech signal *x*.\n",
    "\n",
    "In particular, we want to compute a set of mel-frequency cepstrum coefficients (MFCC) with the following configuration:\n",
    "\n",
    "* Size of the analysis window = 20 ms\n",
    "\n",
    "* Frame period or hop length = 10 ms\n",
    "\n",
    "* Number of filters in the mel filterbank = 40\n",
    "\n",
    "* Number of MFCC components = 20\n",
    "\n",
    "For doing that, we are going to use the function **mfcc** from the module *feature* of the *librosa* package. This function has, among others, the following input arguments:\n",
    "\n",
    "* y: speech signal \n",
    "* sr: sampling frequency\n",
    "* n_fft: window size (in samples)\n",
    "* hop_length: frame period or hop length (in samples)\n",
    "* n_mels: number of filters in the mel filterbank\n",
    "* n_mfcc: number of MFCC components\n",
    "\n",
    "Note that in this function the window size and the hop length must be expressed in samples. Taking into account that the sampling frequency (fs) indicates that 1 second correspond to fs samples (in our case, as fs=16 kHz, 1 second corresponds to 16000 samples), the conversion from **seconds** to **samples** is performed by:\n",
    "\n",
    "```\n",
    "samples = seconds*fs = seconds*16000\n",
    "```\n",
    "\n",
    "With the previous information, fill the values of the configuration variables in the next code.\n",
    "\n"
   ]
  },
  {
   "cell_type": "code",
   "execution_count": 0,
   "metadata": {
    "colab": {},
    "colab_type": "code",
    "id": "ru_cby5D7CkH"
   },
   "outputs": [],
   "source": [
    "# --------------------------------------------------------------------\n",
    "# Configuration variables for feature extraction\n",
    "# --------------------------------------------------------------------\n",
    "\n",
    "##################################\n",
    "# - FILL THE VALUES OF THE FOLLOWING CONFIGURATION VARIABLES\n",
    "##################################\n",
    "\n",
    "fs = ;        # Sampling frequency\n",
    "wst = ;       # Window size (seconds)\n",
    "fpt = ;       # Frame period (seconds) \n",
    "nfft = ;      # Window size (samples)\n",
    "fp = ;        # Frame period (samples)\n",
    "nbands = ;    # Number of filters in the filterbank\n",
    "ncomp = ;     # Number of MFCC components\n"
   ]
  },
  {
   "cell_type": "markdown",
   "metadata": {
    "colab_type": "text",
    "id": "30qMuLg3oH1n"
   },
   "source": [
    "The dimensions of the resulting MFCC must be,\n",
    "\n",
    "```\n",
    "(ncomp x T)\n",
    "```\n",
    "\n",
    "being *T* the number of frames of the speech signal, which is computed as the number of samples of the speech signal divided by the hop length (in samples), rounded off to the ceil integer.\n",
    "\n",
    "The following code computes the MFCC features considering the previously configured variables.\n",
    "\n",
    "Check the dimensions of the resulting MFCC features.\n"
   ]
  },
  {
   "cell_type": "code",
   "execution_count": 0,
   "metadata": {
    "colab": {},
    "colab_type": "code",
    "id": "DY9DXTY-oHVX"
   },
   "outputs": [],
   "source": [
    "# --------------------------------------------------------------------\n",
    "# Example of MFCC computation\n",
    "# --------------------------------------------------------------------\n",
    "\n",
    "# Feature extraction (MFCC computation)\n",
    "mfcc = librosa.feature.mfcc(y=x, sr=fs, n_fft=nfft, hop_length=fp, n_mels=nbands, n_mfcc=ncomp)\n",
    "\n",
    "##################################\n",
    "# - WRITE YOUT CODE HERE\n",
    "##################################\n"
   ]
  },
  {
   "cell_type": "markdown",
   "metadata": {
    "colab_type": "text",
    "id": "a9eu60u2tB21"
   },
   "source": [
    "---\n",
    "## 4. SPEAKER IDENTIFICATION SYSTEM \n",
    "---\n",
    "The speaker identification system to be implemented consists of two main stages,\n",
    "\n",
    "* **Enrollment or training phase.** \n",
    "\n",
    "* **Identification or test phase.**"
   ]
  },
  {
   "cell_type": "markdown",
   "metadata": {
    "colab_type": "text",
    "id": "T7aSH71vfWnf"
   },
   "source": [
    "# 4.1. TRAINING STAGE\n",
    "In this stage, the models of the different speakers in the system are built. For doing that, the following steps must be done,\n",
    "\n",
    "*\tLoading of the training material (speech files listed in ***“Train_List.txt”***).\n",
    "\n",
    "* For each speaker (recall that there are 16 differente speakers in the database),\n",
    "\n",
    "> *\t**Feature extraction**. As baseline features, we recommend the use of the conventional **MFCC parameters**, setting **the window size, the frame period and the number of cepstral components to 20 ms, 10 ms and 20, respectively** (see Section 3).\n",
    "\n",
    "> * **Speaker GMM models building.** The **GaussianMixture** function from the *mixture* module of the *scklearn* package, which implements the EM algorithm, can be used for this purpose. Use **8 gaussians** per model and **diagonal covariances**. \n",
    "\n",
    "At the end of this process, a set of GMM models (one model per speaker) is generated. Note that in this stage, only the training material can be used (listed in ***“Train_List.txt”***).\n",
    "\n",
    "\n"
   ]
  },
  {
   "cell_type": "code",
   "execution_count": 0,
   "metadata": {
    "colab": {},
    "colab_type": "code",
    "id": "XFbykamJUSom"
   },
   "outputs": [],
   "source": [
    "# --------------------------------------------------------------------\n",
    "# Training stage\n",
    "# --------------------------------------------------------------------\n",
    "\n",
    "##################################\n",
    "# - FILL THE VALUES OF THE FOLLOWING CONFIGURATION VARIABLES\n",
    "##################################\n",
    "# Configuration variables for the training stage\n",
    "nspk = ;     # Number of speakers \n",
    "ngauss = ;   # Number of gaussians in the GMM models\n",
    "\n",
    "# Loading of the training files for all speakers\n",
    "# The format of the list (per line) is,\n",
    "# name_of_speech_file   speaker_identifier\n",
    "fid = open(nomlist_train,\"r\")\n",
    "data = np.genfromtxt(fid,dtype='str')\n",
    "fid.close()\n",
    "\n",
    "# Number of training files\n",
    "nfiles_train = data.shape[0]\n",
    "print(nfiles_train)\n",
    "\n",
    "# 'files_speech_train': name of each speech file in the training set\n",
    "# 'labels_train': label (speaker identifier) corresponding to each speech file\n",
    "files_speech_train = []\n",
    "labels_train = []\n",
    "for i in range(nfiles_train):\n",
    "  files_speech_train.append(data[i][0])\n",
    "  labels_train.append(data[i][1])\n",
    "\n",
    "labels_train = np.array(labels_train,dtype=np.int16)\n",
    "\n",
    "# Speaker GMM models building\n",
    "models = []\n",
    "for i in range(nspk):\n",
    "\n",
    "  # Loading of the training file for speaker \"i\"\n",
    "  ##################################\n",
    "  # - WRITE YOUT CODE HERE\n",
    "  ##################################\n",
    "  \n",
    "  # Feature extraction\n",
    "  ##################################\n",
    "  # - WRITE YOUT CODE HERE\n",
    "  ##################################   \n",
    "\n",
    "  # Speaker GMM model building for speaker \"i\"\n",
    "  ##################################\n",
    "  # - WRITE YOUT CODE HERE\n",
    "  ##################################\n",
    "  "
   ]
  },
  {
   "cell_type": "markdown",
   "metadata": {
    "colab_type": "text",
    "id": "vVxx7bBjzKzX"
   },
   "source": [
    "# 4.2. TEST STAGE (CLEAN CONDITIONS)\n",
    "In this stage, the identified or predicted speaker is obtained for the case of clean conditions. For doing that, the following steps must be done,\n",
    "\n",
    "*\tLoading of the test material in **clean conditions** (speech files listed in ***“Test_List1.txt”***).\n",
    "\n",
    "* For each test file of the unknown speaker,\n",
    "\n",
    "> *\t**Feature extraction**. We extract MFCC parameters with the same configuration as in the training stage.\n",
    "\n",
    "> * **Log-likelihood computation of each model for the current test file.** \n",
    "We have to compute the log-likelihood of the test MFCCs given each one of the 16 speaker models obtained in the training stage. The **score_samples** function can be used for this purpose.\n",
    "\n",
    "> * **Selection of the identified speaker**. We select the identified or predicted speaker according to the model which achieves the maximum log-likelihood. \n",
    "\n",
    "\n"
   ]
  },
  {
   "cell_type": "code",
   "execution_count": 0,
   "metadata": {
    "colab": {},
    "colab_type": "code",
    "id": "LptWYslT3wfg"
   },
   "outputs": [],
   "source": [
    "# --------------------------------------------------------------------\n",
    "# Test stage (clean conditions)\n",
    "# --------------------------------------------------------------------\n",
    "\n",
    "# Reading of the list containing the speech test files\n",
    "# The format of the list (per line) is,\n",
    "# name_of_speech_file   speaker_identifier\n",
    "fid = open(nomlist_test[0],\"r\")\n",
    "data = np.genfromtxt(fid,dtype='str')\n",
    "fid.close()\n",
    "\n",
    "# Number of test files  \n",
    "nfiles_test = data.shape[0]\n",
    "print(nfiles_test)\n",
    "\n",
    "# 'files_speech_test': name of each speech file in the test set\n",
    "# 'labels_test': label (speaker identifier) corresponding to each speech file\n",
    "files_speech_test = []\n",
    "labels_test = []\n",
    "for i in range(nfiles_test):\n",
    "  files_speech_test.append(data[i][0])\n",
    "  labels_test.append(data[i][1])\n",
    "\n",
    "labels_test = np.array(labels_test,dtype=np.int16)\n",
    "\n",
    "# 'pred_spk': predicted spakers\n",
    "pred_spk = np.zeros(nfiles_test,dtype=np.int16)\n",
    "\n",
    "# Loop for each test file\n",
    "for k in range(nfiles_test):\n",
    "\n",
    "  # Loading of the test files\n",
    "  ##################################\n",
    "  # - WRITE YOUT CODE HERE\n",
    "  ##################################\n",
    "      \n",
    "  # Feature extraction\n",
    "  ##################################\n",
    "  # - WRITE YOUT CODE HERE\n",
    "  ##################################\n",
    "\n",
    "  # Log-likelihood computation of each model for the current test file\n",
    "  ##################################\n",
    "  # - WRITE YOUT CODE HERE\n",
    "  ##################################\n",
    "\n",
    "  # Selection of the identified speaker\n",
    "  ##################################\n",
    "  # - WRITE YOUT CODE HERE\n",
    "  ##################################\n"
   ]
  },
  {
   "cell_type": "markdown",
   "metadata": {
    "colab_type": "text",
    "id": "e5gckfiV4T8C"
   },
   "source": [
    "# 4.3. EVALUATION (CLEAN CONDITIONS)\n",
    "This task consists of the evaluation of the system in clean conditions.\n",
    "\n",
    "The performance of the speaker identification system is measured in terms of the **identification accuracy** (percentage of correctly identified test files with respect to the total number of test files).\n",
    "\n"
   ]
  },
  {
   "cell_type": "code",
   "execution_count": 0,
   "metadata": {
    "colab": {},
    "colab_type": "code",
    "id": "tZAacnqHRZt0"
   },
   "outputs": [],
   "source": [
    "# --------------------------------------------------------------------\n",
    "# Evaluation (clean conditions)\n",
    "# --------------------------------------------------------------------\n",
    "\n",
    "# Computation of the identification accuracy\n",
    "##################################\n",
    "# - WRITE YOUT CODE HERE\n",
    "##################################\n"
   ]
  },
  {
   "cell_type": "markdown",
   "metadata": {
    "colab_type": "text",
    "id": "HkKctWmK52Qx"
   },
   "source": [
    "# 4.4. TEST STAGE (NOISY CONDITIONS)\n",
    "In this stage, the identified or predicted speaker is obtained for the case of noisy conditions.\n",
    "\n",
    "Repeat the Section 4.2 but now using the test material in **noisy conditions** (speech files listed in ***“Test_List2.txt”***).\n"
   ]
  },
  {
   "cell_type": "code",
   "execution_count": 0,
   "metadata": {
    "colab": {},
    "colab_type": "code",
    "id": "nmKz2N-V8Tnp"
   },
   "outputs": [],
   "source": [
    "# --------------------------------------------------------------------\n",
    "# Test stage (noisy conditions)\n",
    "# --------------------------------------------------------------------\n",
    "\n",
    "##################################\n",
    "# - WRITE YOUT CODE HERE\n",
    "##################################\n"
   ]
  },
  {
   "cell_type": "markdown",
   "metadata": {
    "colab_type": "text",
    "id": "JUAR4KCZ6ppo"
   },
   "source": [
    "# 4.5. EVALUATION (NOISY CONDITIONS)\n",
    "Evaluate the performance of the system in noisy conditions by computing the **identification accuracy** as in Section 4.3.\n"
   ]
  },
  {
   "cell_type": "code",
   "execution_count": 0,
   "metadata": {
    "colab": {},
    "colab_type": "code",
    "id": "LKluSpsS7AKy"
   },
   "outputs": [],
   "source": [
    "# --------------------------------------------------------------------\n",
    "# Evaluation (noisy conditions)\n",
    "# --------------------------------------------------------------------\n",
    "\n",
    "# Computation of the identification accuracy\n",
    "##################################\n",
    "# - WRITE YOUT CODE HERE\n",
    "##################################\n"
   ]
  },
  {
   "cell_type": "markdown",
   "metadata": {
    "colab_type": "text",
    "id": "XLgwN-pa7RIS"
   },
   "source": [
    "---\n",
    "## 5. IMPROVEMENTS ON THE BASELINE SYSTEM [OPTIONAL] \n",
    "---\n",
    "In this task, students can propose any improvement of the baseline system by, for example, including new acoustic features (LPC, …) or trying different number of Gaussians in the GMM models or computing confusion matrices for the evalution of the system.\n"
   ]
  },
  {
   "cell_type": "code",
   "execution_count": 0,
   "metadata": {
    "colab": {},
    "colab_type": "code",
    "id": "77zquErb9eXQ"
   },
   "outputs": [],
   "source": [
    "# --------------------------------------------------------------------\n",
    "# Improvements on the baseline system\n",
    "# --------------------------------------------------------------------\n",
    "\n",
    "##################################\n",
    "# - WRITE YOUT CODE HERE\n",
    "##################################\n"
   ]
  }
 ],
 "metadata": {
  "colab": {
   "collapsed_sections": [],
   "name": "Lab_Exercise1_students.ipynb",
   "provenance": [],
   "toc_visible": true
  },
  "kernelspec": {
   "display_name": "spark",
   "language": "python",
   "name": "python3"
  },
  "language_info": {
   "codemirror_mode": {
    "name": "ipython",
    "version": 3
   },
   "file_extension": ".py",
   "mimetype": "text/x-python",
   "name": "python",
   "nbconvert_exporter": "python",
   "pygments_lexer": "ipython3",
   "version": "3.7.4"
  }
 },
 "nbformat": 4,
 "nbformat_minor": 1
}
