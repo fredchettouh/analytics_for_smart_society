{
 "cells": [
  {
   "cell_type": "code",
   "execution_count": 1,
   "metadata": {},
   "outputs": [],
   "source": [
    "import pandas as pd\n",
    "import numpy as np\n",
    "import os \n",
    "from scipy import stats\n",
    "from segmentation import segmentation,windows2\n",
    "from apply_to_window import apply_to_window, map_back_to_window\n",
    "from copy import deepcopy"
   ]
  },
  {
   "cell_type": "code",
   "execution_count": 2,
   "metadata": {},
   "outputs": [],
   "source": [
    "BASEDIR = \"/\".join(os.getcwd().split('/')[:-2])\n",
    "DATA_DIR = 'data/asg_two'\n",
    "META_DATA = 'database_description.txt'\n",
    "COLNAMES_TRAIN = ['acc_z', 'acc_xy', 'gyro_x','gyro_y','gyro_z','label','id']\n",
    "COLNAMES_TEST = ['acc_z', 'acc_xy', 'gyro_x','gyro_y','gyro_z','id']\n",
    "\n",
    "TRAIN_FILE = 'HAR_train.csv'\n",
    "TEST_FILE = 'HAR_test.csv'\n",
    "data = pd.read_csv(os.path.join(BASEDIR, DATA_DIR, TRAIN_FILE))"
   ]
  },
  {
   "cell_type": "code",
   "execution_count": 3,
   "metadata": {},
   "outputs": [],
   "source": [
    "data.head()\n",
    "df = deepcopy(data)"
   ]
  },
  {
   "cell_type": "code",
   "execution_count": 4,
   "metadata": {},
   "outputs": [
    {
     "name": "stderr",
     "output_type": "stream",
     "text": [
      "/Users/frederik/Google Drive/University/UC3M/bi_semester_4/smart_society/code/asg_two/segmentation.py:13: SettingWithCopyWarning: \n",
      "A value is trying to be set on a copy of a slice from a DataFrame\n",
      "\n",
      "See the caveats in the documentation: https://pandas.pydata.org/pandas-docs/stable/user_guide/indexing.html#returning-a-view-versus-a-copy\n",
      "  data['window_id'][start:end]=counter\n"
     ]
    }
   ],
   "source": [
    "df = segmentation(df)"
   ]
  },
  {
   "cell_type": "code",
   "execution_count": 5,
   "metadata": {},
   "outputs": [],
   "source": [
    "n_windows = len(set(df['window_id']))"
   ]
  },
  {
   "cell_type": "code",
   "execution_count": 6,
   "metadata": {},
   "outputs": [],
   "source": [
    "mode_results = apply_to_window(df, len(set(df['window_id'])), 'label', stats.mode)"
   ]
  },
  {
   "cell_type": "code",
   "execution_count": 6,
   "metadata": {},
   "outputs": [],
   "source": [
    "mean_gyro_y_results = apply_to_window(df, len(set(df['window_id'])), 'gyro_y', np.mean)"
   ]
  },
  {
   "cell_type": "code",
   "execution_count": 17,
   "metadata": {},
   "outputs": [
    {
     "name": "stdout",
     "output_type": "stream",
     "text": [
      "window_id test\n",
      "      acc_z    acc_xy    gyro_x    gyro_y    gyro_z  label   id  window_id\n",
      "0  0.024173  0.594417 -0.022736  0.111962  0.060499    3.0  0.0        0.0\n",
      "1  0.019905  0.602472 -0.012875  0.103796  0.055157    3.0  0.0        0.0\n",
      "2  0.034749  0.525821 -0.020016  0.103193  0.057541    3.0  0.0        0.0\n",
      "3  0.059832  0.621057 -0.026841  0.104378  0.063853    3.0  0.0        0.0\n",
      "4  0.044743  0.653001 -0.014540  0.103560  0.066084    3.0  0.0        0.0\n"
     ]
    }
   ],
   "source": [
    "data = map_back_to_window(df, {key: int(mode_results[key][0][0])for key in mode_results}, 'test')"
   ]
  }
 ],
 "metadata": {
  "kernelspec": {
   "display_name": "smart_society",
   "language": "python",
   "name": "other-env"
  },
  "language_info": {
   "codemirror_mode": {
    "name": "ipython",
    "version": 3
   },
   "file_extension": ".py",
   "mimetype": "text/x-python",
   "name": "python",
   "nbconvert_exporter": "python",
   "pygments_lexer": "ipython3",
   "version": "3.7.4"
  }
 },
 "nbformat": 4,
 "nbformat_minor": 2
}
