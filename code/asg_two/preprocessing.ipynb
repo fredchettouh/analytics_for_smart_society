{
 "cells": [
  {
   "cell_type": "code",
   "execution_count": 4,
   "metadata": {},
   "outputs": [],
   "source": [
    "from scipy.io import loadmat\n",
    "import pandas as pd\n",
    "import numpy as np\n",
    "import os "
   ]
  },
  {
   "cell_type": "code",
   "execution_count": 85,
   "metadata": {},
   "outputs": [],
   "source": [
    "BASEDIR = '/Users/frederik/Google Drive/University/UC3M/bi_semester_4/smart_society'\n",
    "DATA_DIR = 'data/asg_two'\n",
    "DATA_FILE = 'HAR_database.mat'\n",
    "META_DATA = 'database_description.txt'\n",
    "COLNAMES = ['acc_z', 'acc_xy', 'gyro_z','gyro_x','gyro_z','label']"
   ]
  },
  {
   "cell_type": "code",
   "execution_count": 108,
   "metadata": {},
   "outputs": [],
   "source": [
    "def preprocessing():\n",
    "    data = loadmat(os.path.join(BASEDIR,DATA_DIR, DATA_FILE))\n",
    "    train_data = data['database_training']\n",
    "    dataframes = []\n",
    "    for _ in range(train_data.shape[0]):\n",
    "        temp = np.vstack((train_data[_][0],train_data[_][1]))\n",
    "        ids  = [_ for meassurement in range(temp.shape[1])]\n",
    "        temp = np.vstack((temp, ids))\n",
    "        temp = np.transpose(temp)\n",
    "        temp = pd.DataFrame((temp),columns=COLNAMES)\n",
    "        dataframes.append(temp)\n",
    "    return pd.concat(dataframes)"
   ]
  },
  {
   "cell_type": "code",
   "execution_count": 110,
   "metadata": {},
   "outputs": [],
   "source": [
    "train = preprocessing()"
   ]
  },
  {
   "cell_type": "code",
   "execution_count": 112,
   "metadata": {},
   "outputs": [],
   "source": [
    "train.to_csv(os.path.join(BASEDIR,DATA_DIR,'HAR_database_train.csv'), index=False)"
   ]
  },
  {
   "cell_type": "code",
   "execution_count": null,
   "metadata": {},
   "outputs": [],
   "source": []
  }
 ],
 "metadata": {
  "kernelspec": {
   "display_name": "smart_society",
   "language": "python",
   "name": "other-env"
  },
  "language_info": {
   "codemirror_mode": {
    "name": "ipython",
    "version": 3
   },
   "file_extension": ".py",
   "mimetype": "text/x-python",
   "name": "python",
   "nbconvert_exporter": "python",
   "pygments_lexer": "ipython3",
   "version": "3.7.4"
  }
 },
 "nbformat": 4,
 "nbformat_minor": 2
}
