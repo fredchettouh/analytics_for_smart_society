{
 "cells": [
  {
   "cell_type": "code",
   "execution_count": 1,
   "metadata": {},
   "outputs": [],
   "source": [
    "from numpy import fft\n",
    "import os \n",
    "from scipy import signal\n",
    "from scipy.fftpack import rfft, fftfreq\n",
    "import pandas as pd\n",
    "import numpy as np\n",
    "import matplotlib.pyplot as plt"
   ]
  },
  {
   "cell_type": "code",
   "execution_count": 2,
   "metadata": {},
   "outputs": [],
   "source": [
    "BASEDIR = \"/\".join(os.getcwd().split('/')[:-2])\n",
    "DATA_DIR = 'data/asg_two'\n",
    "META_DATA = 'database_description.txt'\n",
    "COLNAMES_TRAIN = ['acc_z', 'acc_xy', 'gyro_x','gyro_y','gyro_z','label','id']\n",
    "COLNAMES_TEST = ['acc_z', 'acc_xy', 'gyro_x','gyro_y','gyro_z','id']\n",
    "\n",
    "TRAIN_FILE = 'HAR_train.csv'\n",
    "TEST_FILE = 'HAR_test.csv'\n"
   ]
  },
  {
   "cell_type": "code",
   "execution_count": 3,
   "metadata": {},
   "outputs": [],
   "source": [
    "data = pd.read_csv(os.path.join(BASEDIR, DATA_DIR, TRAIN_FILE))"
   ]
  },
  {
   "cell_type": "markdown",
   "metadata": {},
   "source": [
    "## Fourier Transformation and derived features\n",
    "\n",
    "The Fourier transformation allows us to convert a timeseries from the time domain to the frequency domain. The resulting series shows amplitude as a function of frequency. Thus it shows all frequencies that contribute to the series. For real input the real part of the result holds the scaling for a cosine at the particular frequency, the imaginary part of the result has the scaling for a sine at that frequency. The Magnitude of the signal at any given point is the absolute value of the transformed value, or the power. The other part is the phase part."
   ]
  },
  {
   "cell_type": "code",
   "execution_count": 4,
   "metadata": {},
   "outputs": [],
   "source": [
    "test_data = data[data['id']==0]['gyro_y']"
   ]
  },
  {
   "cell_type": "code",
   "execution_count": 5,
   "metadata": {},
   "outputs": [],
   "source": [
    "fourier_transformation = abs(fft.fft(test_data)/len(test_data)) #this is neccessary because numpy under the hood scales the amplitude\n",
    "frequencies = fftfreq(len(test_data))\n",
    "mask=frequencies>0\n",
    "signal_magnitude = abs(fourier_transformation)"
   ]
  },
  {
   "cell_type": "code",
   "execution_count": 73,
   "metadata": {},
   "outputs": [],
   "source": [
    "# POWER Spectrum:\n",
    "# not clear what is used in the paper--> A Comparison of Feature Extraction Methods for the Classification of Dynamic Activities uses the first five components of the window From Accelerometer Data\n",
    "singal_magnitude = abs(fourier_transformation/len(fourier_transformation))\n",
    "power_spectrum = singal_magnitude\n",
    "spectral_energy = np.sum(power_spectrum)"
   ]
  }
 ],
 "metadata": {
  "kernelspec": {
   "display_name": "smart_society",
   "language": "python",
   "name": "other-env"
  },
  "language_info": {
   "codemirror_mode": {
    "name": "ipython",
    "version": 3
   },
   "file_extension": ".py",
   "mimetype": "text/x-python",
   "name": "python",
   "nbconvert_exporter": "python",
   "pygments_lexer": "ipython3",
   "version": "3.7.4"
  }
 },
 "nbformat": 4,
 "nbformat_minor": 2
}
